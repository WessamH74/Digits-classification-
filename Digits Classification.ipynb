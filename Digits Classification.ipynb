{
 "cells": [
  {
   "attachments": {},
   "cell_type": "markdown",
   "metadata": {},
   "source": [
    "<h2 align=\"center\" style=\"font-family:Times,serif\">Digits Classification Project</h2>"
   ]
  },
  {
   "attachments": {},
   "cell_type": "markdown",
   "metadata": {},
   "source": [
    "# Digits Classification"
   ]
  },
  {
   "attachments": {},
   "cell_type": "markdown",
   "metadata": {},
   "source": [
    "## Libraries Import"
   ]
  },
  {
   "cell_type": "code",
   "execution_count": 1,
   "metadata": {},
   "outputs": [],
   "source": [
    "import numpy as np\n",
    "import pandas as pd \n",
    "from matplotlib import pyplot as plt\n",
    "import math"
   ]
  },
  {
   "attachments": {},
   "cell_type": "markdown",
   "metadata": {},
   "source": [
    "## Read Data"
   ]
  },
  {
   "cell_type": "code",
   "execution_count": 2,
   "metadata": {},
   "outputs": [
    {
     "data": {
      "text/html": [
       "<div>\n",
       "<style scoped>\n",
       "    .dataframe tbody tr th:only-of-type {\n",
       "        vertical-align: middle;\n",
       "    }\n",
       "\n",
       "    .dataframe tbody tr th {\n",
       "        vertical-align: top;\n",
       "    }\n",
       "\n",
       "    .dataframe thead th {\n",
       "        text-align: right;\n",
       "    }\n",
       "</style>\n",
       "<table border=\"1\" class=\"dataframe\">\n",
       "  <thead>\n",
       "    <tr style=\"text-align: right;\">\n",
       "      <th></th>\n",
       "      <th>label</th>\n",
       "      <th>pixel0</th>\n",
       "      <th>pixel1</th>\n",
       "      <th>pixel2</th>\n",
       "      <th>pixel3</th>\n",
       "      <th>pixel4</th>\n",
       "      <th>pixel5</th>\n",
       "      <th>pixel6</th>\n",
       "      <th>pixel7</th>\n",
       "      <th>pixel8</th>\n",
       "      <th>...</th>\n",
       "      <th>pixel774</th>\n",
       "      <th>pixel775</th>\n",
       "      <th>pixel776</th>\n",
       "      <th>pixel777</th>\n",
       "      <th>pixel778</th>\n",
       "      <th>pixel779</th>\n",
       "      <th>pixel780</th>\n",
       "      <th>pixel781</th>\n",
       "      <th>pixel782</th>\n",
       "      <th>pixel783</th>\n",
       "    </tr>\n",
       "  </thead>\n",
       "  <tbody>\n",
       "    <tr>\n",
       "      <th>0</th>\n",
       "      <td>1</td>\n",
       "      <td>0</td>\n",
       "      <td>0</td>\n",
       "      <td>0</td>\n",
       "      <td>0</td>\n",
       "      <td>0</td>\n",
       "      <td>0</td>\n",
       "      <td>0</td>\n",
       "      <td>0</td>\n",
       "      <td>0</td>\n",
       "      <td>...</td>\n",
       "      <td>0</td>\n",
       "      <td>0</td>\n",
       "      <td>0</td>\n",
       "      <td>0</td>\n",
       "      <td>0</td>\n",
       "      <td>0</td>\n",
       "      <td>0</td>\n",
       "      <td>0</td>\n",
       "      <td>0</td>\n",
       "      <td>0</td>\n",
       "    </tr>\n",
       "    <tr>\n",
       "      <th>1</th>\n",
       "      <td>0</td>\n",
       "      <td>0</td>\n",
       "      <td>0</td>\n",
       "      <td>0</td>\n",
       "      <td>0</td>\n",
       "      <td>0</td>\n",
       "      <td>0</td>\n",
       "      <td>0</td>\n",
       "      <td>0</td>\n",
       "      <td>0</td>\n",
       "      <td>...</td>\n",
       "      <td>0</td>\n",
       "      <td>0</td>\n",
       "      <td>0</td>\n",
       "      <td>0</td>\n",
       "      <td>0</td>\n",
       "      <td>0</td>\n",
       "      <td>0</td>\n",
       "      <td>0</td>\n",
       "      <td>0</td>\n",
       "      <td>0</td>\n",
       "    </tr>\n",
       "    <tr>\n",
       "      <th>2</th>\n",
       "      <td>1</td>\n",
       "      <td>0</td>\n",
       "      <td>0</td>\n",
       "      <td>0</td>\n",
       "      <td>0</td>\n",
       "      <td>0</td>\n",
       "      <td>0</td>\n",
       "      <td>0</td>\n",
       "      <td>0</td>\n",
       "      <td>0</td>\n",
       "      <td>...</td>\n",
       "      <td>0</td>\n",
       "      <td>0</td>\n",
       "      <td>0</td>\n",
       "      <td>0</td>\n",
       "      <td>0</td>\n",
       "      <td>0</td>\n",
       "      <td>0</td>\n",
       "      <td>0</td>\n",
       "      <td>0</td>\n",
       "      <td>0</td>\n",
       "    </tr>\n",
       "    <tr>\n",
       "      <th>3</th>\n",
       "      <td>4</td>\n",
       "      <td>0</td>\n",
       "      <td>0</td>\n",
       "      <td>0</td>\n",
       "      <td>0</td>\n",
       "      <td>0</td>\n",
       "      <td>0</td>\n",
       "      <td>0</td>\n",
       "      <td>0</td>\n",
       "      <td>0</td>\n",
       "      <td>...</td>\n",
       "      <td>0</td>\n",
       "      <td>0</td>\n",
       "      <td>0</td>\n",
       "      <td>0</td>\n",
       "      <td>0</td>\n",
       "      <td>0</td>\n",
       "      <td>0</td>\n",
       "      <td>0</td>\n",
       "      <td>0</td>\n",
       "      <td>0</td>\n",
       "    </tr>\n",
       "    <tr>\n",
       "      <th>4</th>\n",
       "      <td>0</td>\n",
       "      <td>0</td>\n",
       "      <td>0</td>\n",
       "      <td>0</td>\n",
       "      <td>0</td>\n",
       "      <td>0</td>\n",
       "      <td>0</td>\n",
       "      <td>0</td>\n",
       "      <td>0</td>\n",
       "      <td>0</td>\n",
       "      <td>...</td>\n",
       "      <td>0</td>\n",
       "      <td>0</td>\n",
       "      <td>0</td>\n",
       "      <td>0</td>\n",
       "      <td>0</td>\n",
       "      <td>0</td>\n",
       "      <td>0</td>\n",
       "      <td>0</td>\n",
       "      <td>0</td>\n",
       "      <td>0</td>\n",
       "    </tr>\n",
       "  </tbody>\n",
       "</table>\n",
       "<p>5 rows × 785 columns</p>\n",
       "</div>"
      ],
      "text/plain": [
       "   label  pixel0  pixel1  pixel2  pixel3  pixel4  pixel5  pixel6  pixel7  \\\n",
       "0      1       0       0       0       0       0       0       0       0   \n",
       "1      0       0       0       0       0       0       0       0       0   \n",
       "2      1       0       0       0       0       0       0       0       0   \n",
       "3      4       0       0       0       0       0       0       0       0   \n",
       "4      0       0       0       0       0       0       0       0       0   \n",
       "\n",
       "   pixel8  ...  pixel774  pixel775  pixel776  pixel777  pixel778  pixel779  \\\n",
       "0       0  ...         0         0         0         0         0         0   \n",
       "1       0  ...         0         0         0         0         0         0   \n",
       "2       0  ...         0         0         0         0         0         0   \n",
       "3       0  ...         0         0         0         0         0         0   \n",
       "4       0  ...         0         0         0         0         0         0   \n",
       "\n",
       "   pixel780  pixel781  pixel782  pixel783  \n",
       "0         0         0         0         0  \n",
       "1         0         0         0         0  \n",
       "2         0         0         0         0  \n",
       "3         0         0         0         0  \n",
       "4         0         0         0         0  \n",
       "\n",
       "[5 rows x 785 columns]"
      ]
     },
     "execution_count": 2,
     "metadata": {},
     "output_type": "execute_result"
    }
   ],
   "source": [
    "data = pd.read_csv(\"train.csv\") #read data\n",
    "data.head() #display heads "
   ]
  },
  {
   "attachments": {},
   "cell_type": "markdown",
   "metadata": {},
   "source": [
    "## Split & Save Data"
   ]
  },
  {
   "cell_type": "code",
   "execution_count": 3,
   "metadata": {},
   "outputs": [
    {
     "data": {
      "text/plain": [
       "(42000, 785)"
      ]
     },
     "execution_count": 3,
     "metadata": {},
     "output_type": "execute_result"
    }
   ],
   "source": [
    "data = np.array(data) # save data as array\n",
    "data.shape"
   ]
  },
  {
   "cell_type": "code",
   "execution_count": 4,
   "metadata": {},
   "outputs": [],
   "source": [
    "m , n = data.shape #save dimensions \n",
    "np.random.shuffle(data) # shuffle data randomly "
   ]
  },
  {
   "cell_type": "code",
   "execution_count": 5,
   "metadata": {},
   "outputs": [
    {
     "data": {
      "text/plain": [
       "(785, 20000)"
      ]
     },
     "execution_count": 5,
     "metadata": {},
     "output_type": "execute_result"
    }
   ],
   "source": [
    "training_data = data[0:20000].T # transpose data to be 785* number of images\n",
    "training_data.shape"
   ]
  },
  {
   "cell_type": "code",
   "execution_count": 6,
   "metadata": {},
   "outputs": [],
   "source": [
    "y_train = training_data[0] # split labels\n",
    "x_train = training_data[1:n] # rest of the columns\n",
    "x_train = x_train/255. # normalizing data"
   ]
  },
  {
   "attachments": {},
   "cell_type": "markdown",
   "metadata": {},
   "source": [
    "## Parameter Intialization"
   ]
  },
  {
   "cell_type": "code",
   "execution_count": 7,
   "metadata": {},
   "outputs": [],
   "source": [
    "def parameters():\n",
    "    W1 = np.random.rand(10,784) * 2 - 1\n",
    "    b1 = np.random.rand(10,1) - 0.5\n",
    "    W2 = np.random.rand(10,10) * 2 - 1\n",
    "    b2 = np.random.rand(10,1) - 0.5\n",
    "    return W1 , b1 , W2 , b2 "
   ]
  },
  {
   "attachments": {},
   "cell_type": "markdown",
   "metadata": {},
   "source": [
    "## Forward Propagation"
   ]
  },
  {
   "cell_type": "code",
   "execution_count": 8,
   "metadata": {},
   "outputs": [],
   "source": [
    "def ReLU(z):\n",
    "    return np.maximum(0,z) # for each element in z if >0 then return z else return 0\n",
    "\n",
    "def softMax(z):\n",
    "    A = np.exp(z)/ sum(np.exp(z))\n",
    "    return A \n",
    "    \n",
    "def forward_propagation(W1,b1,W2,b2,x):\n",
    "    Z1 = W1.dot(x) + b1  #summation for layer 1\n",
    "    A1 = ReLU(Z1)        # Activation for layer 1\n",
    "    Z2 = W2.dot(A1) + b2  #summation for layer 2\n",
    "    A2 = softMax(Z2)      #activation for layer 2\n",
    "    return Z1 ,A1 , Z2 , A2"
   ]
  },
  {
   "attachments": {},
   "cell_type": "markdown",
   "metadata": {},
   "source": [
    "## Back_Propagation"
   ]
  },
  {
   "cell_type": "code",
   "execution_count": 9,
   "metadata": {},
   "outputs": [],
   "source": [
    "def encode(y): # to encode the actual output as a matrix  \n",
    "    encode_y = np.zeros((y.size,y.max()+1)) # zero matrix with number of examples(m Size) * number of classes (10)\n",
    "    #for each row go to y columns and set it to be 1 \n",
    "    encode_y[np.arange(y.size),y] = 1 #access array by from 0 to m = number of training examples , class label \n",
    "    encode_y  = encode_y.T # as each row define an examples\n",
    "    return encode_y\n",
    "\n",
    "def ReLU_Derv(z):\n",
    "    return z > 0 # if element greater than 0 return 1 else return 0 \n",
    "\n",
    "def back_propagation(Z1 ,A1 , Z2 , A2 , W2 , x , y ):\n",
    "    m = y.size\n",
    "    encode_Y = encode(y)\n",
    "    Z2_Error = A2 - encode_Y \n",
    "    derv_W2 = 1 / m * Z2_Error.dot(A1.T)\n",
    "    derv_b2 = 1 / m * np.sum(Z2_Error)\n",
    "    Z1_Error = W2.T.dot(Z2_Error) * ReLU_Derv(Z1)\n",
    "    derv_W1 = 1 / m * Z1_Error.dot(x.T)\n",
    "    derv_b1 = 1 / m * np.sum(Z1_Error)\n",
    "    return derv_b1 , derv_W1 , derv_b2 , derv_W2\n",
    "    "
   ]
  },
  {
   "attachments": {},
   "cell_type": "markdown",
   "metadata": {},
   "source": [
    "## Parameters Update"
   ]
  },
  {
   "cell_type": "code",
   "execution_count": 10,
   "metadata": {},
   "outputs": [],
   "source": [
    "def update(W1 , b1 , W2 , b2 , derv_b1 , derv_W1 , derv_b2 , derv_W2 , alpha):\n",
    "    W1 = W1 - alpha * derv_W1 \n",
    "    b1 = b1 - alpha * derv_b1\n",
    "    W2 = W2 - alpha * derv_W2 \n",
    "    b2 = b2 - alpha * derv_b2\n",
    "    return W1 , b1 , W2 , b2 "
   ]
  },
  {
   "attachments": {},
   "cell_type": "markdown",
   "metadata": {},
   "source": [
    "## Gradient_Descant"
   ]
  },
  {
   "cell_type": "code",
   "execution_count": 11,
   "metadata": {},
   "outputs": [],
   "source": [
    "def predict(A2):\n",
    "    return np.argmax(A2,0) # return max value\n",
    "\n",
    "def accuracy(predictions , y):\n",
    "    print(predictions , y)\n",
    "    return np.sum(predictions==y) / y.size \n",
    "\n",
    "def gradient_descant(x , y , iterations , alpha ):\n",
    "    W1 , b1 , W2 , b2 = parameters()\n",
    "    for i in range(iterations):\n",
    "        Z1 , A1 , Z2 , A2  = forward_propagation( W1 , b1 , W2 , b2 , x)\n",
    "        derv_W1 , derv_b1 ,  derv_W2 , derv_b2 = back_propagation(Z1 , A1 , Z2 , A2 , W2 , x , y )\n",
    "        W1 , b1 , W2 , b2 = update( W1 , b1 , W2 , b2 , derv_W1 , derv_b1 ,  derv_W2 , derv_b2 , alpha)\n",
    "        if i % 50 == 0 : # after each 50 iterations\n",
    "            print(\"iteration \" , i )\n",
    "            print(\"Accuracy \" , accuracy(predict(A2),y)*100,\"%\")\n",
    "    return W1 , b1 , W2 , b2 \n",
    "            "
   ]
  },
  {
   "cell_type": "code",
   "execution_count": 12,
   "metadata": {
    "scrolled": true
   },
   "outputs": [
    {
     "name": "stdout",
     "output_type": "stream",
     "text": [
      "iteration  0\n",
      "[0 2 6 ... 2 5 9] [6 5 9 ... 1 2 1]\n",
      "Accuracy  11.645 %\n",
      "iteration  50\n",
      "[8 4 6 ... 4 8 3] [6 5 9 ... 1 2 1]\n",
      "Accuracy  26.56 %\n",
      "iteration  100\n",
      "[8 8 6 ... 6 9 2] [6 5 9 ... 1 2 1]\n",
      "Accuracy  38.074999999999996 %\n",
      "iteration  150\n",
      "[7 8 6 ... 9 3 1] [6 5 9 ... 1 2 1]\n",
      "Accuracy  48.445 %\n",
      "iteration  200\n",
      "[7 8 6 ... 9 3 1] [6 5 9 ... 1 2 1]\n",
      "Accuracy  55.84 %\n",
      "iteration  250\n",
      "[9 8 9 ... 9 2 1] [6 5 9 ... 1 2 1]\n",
      "Accuracy  61.629999999999995 %\n",
      "iteration  300\n",
      "[7 8 9 ... 1 2 1] [6 5 9 ... 1 2 1]\n",
      "Accuracy  65.96 %\n",
      "iteration  350\n",
      "[6 8 9 ... 1 2 1] [6 5 9 ... 1 2 1]\n",
      "Accuracy  69.41000000000001 %\n",
      "iteration  400\n",
      "[6 5 9 ... 1 2 1] [6 5 9 ... 1 2 1]\n",
      "Accuracy  71.55 %\n",
      "iteration  450\n",
      "[6 5 9 ... 1 2 1] [6 5 9 ... 1 2 1]\n",
      "Accuracy  73.045 %\n",
      "iteration  500\n",
      "[6 5 9 ... 1 2 1] [6 5 9 ... 1 2 1]\n",
      "Accuracy  74.32 %\n",
      "iteration  550\n",
      "[6 5 9 ... 1 2 1] [6 5 9 ... 1 2 1]\n",
      "Accuracy  75.44 %\n",
      "iteration  600\n",
      "[6 5 9 ... 1 2 1] [6 5 9 ... 1 2 1]\n",
      "Accuracy  76.55 %\n",
      "iteration  650\n",
      "[6 5 9 ... 1 2 1] [6 5 9 ... 1 2 1]\n",
      "Accuracy  77.32 %\n",
      "iteration  700\n",
      "[6 5 9 ... 1 2 1] [6 5 9 ... 1 2 1]\n",
      "Accuracy  78.05499999999999 %\n",
      "iteration  750\n",
      "[6 5 9 ... 1 2 1] [6 5 9 ... 1 2 1]\n",
      "Accuracy  78.715 %\n",
      "iteration  800\n",
      "[6 5 9 ... 1 2 1] [6 5 9 ... 1 2 1]\n",
      "Accuracy  79.325 %\n",
      "iteration  850\n",
      "[6 5 9 ... 1 2 1] [6 5 9 ... 1 2 1]\n",
      "Accuracy  79.89500000000001 %\n",
      "iteration  900\n",
      "[6 5 4 ... 1 2 1] [6 5 9 ... 1 2 1]\n",
      "Accuracy  80.39500000000001 %\n",
      "iteration  950\n",
      "[6 5 4 ... 1 2 1] [6 5 9 ... 1 2 1]\n",
      "Accuracy  78.655 %\n",
      "iteration  1000\n",
      "[6 5 4 ... 1 2 1] [6 5 9 ... 1 2 1]\n",
      "Accuracy  80.865 %\n",
      "iteration  1050\n",
      "[6 5 4 ... 1 2 1] [6 5 9 ... 1 2 1]\n",
      "Accuracy  81.035 %\n",
      "iteration  1100\n",
      "[6 5 4 ... 1 2 1] [6 5 9 ... 1 2 1]\n",
      "Accuracy  81.50500000000001 %\n",
      "iteration  1150\n",
      "[6 5 4 ... 1 2 1] [6 5 9 ... 1 2 1]\n",
      "Accuracy  81.83500000000001 %\n",
      "iteration  1200\n",
      "[6 5 4 ... 1 2 1] [6 5 9 ... 1 2 1]\n",
      "Accuracy  82.19 %\n",
      "iteration  1250\n",
      "[6 5 4 ... 1 2 1] [6 5 9 ... 1 2 1]\n",
      "Accuracy  82.465 %\n",
      "iteration  1300\n",
      "[6 5 4 ... 1 2 1] [6 5 9 ... 1 2 1]\n",
      "Accuracy  82.72 %\n",
      "iteration  1350\n",
      "[6 5 4 ... 1 2 1] [6 5 9 ... 1 2 1]\n",
      "Accuracy  83.02000000000001 %\n",
      "iteration  1400\n",
      "[6 5 4 ... 1 2 1] [6 5 9 ... 1 2 1]\n",
      "Accuracy  83.36 %\n",
      "iteration  1450\n",
      "[6 5 4 ... 1 2 1] [6 5 9 ... 1 2 1]\n",
      "Accuracy  83.58 %\n",
      "iteration  1500\n",
      "[6 5 4 ... 1 2 1] [6 5 9 ... 1 2 1]\n",
      "Accuracy  83.77 %\n",
      "iteration  1550\n",
      "[6 5 4 ... 1 2 1] [6 5 9 ... 1 2 1]\n",
      "Accuracy  83.95 %\n",
      "iteration  1600\n",
      "[6 5 4 ... 1 2 1] [6 5 9 ... 1 2 1]\n",
      "Accuracy  84.185 %\n",
      "iteration  1650\n",
      "[6 5 4 ... 1 2 1] [6 5 9 ... 1 2 1]\n",
      "Accuracy  84.45 %\n",
      "iteration  1700\n",
      "[6 5 4 ... 1 2 1] [6 5 9 ... 1 2 1]\n",
      "Accuracy  84.615 %\n",
      "iteration  1750\n",
      "[6 8 4 ... 1 2 1] [6 5 9 ... 1 2 1]\n",
      "Accuracy  84.77 %\n",
      "iteration  1800\n",
      "[6 8 4 ... 1 2 1] [6 5 9 ... 1 2 1]\n",
      "Accuracy  84.93 %\n",
      "iteration  1850\n",
      "[6 8 4 ... 1 2 1] [6 5 9 ... 1 2 1]\n",
      "Accuracy  85.04 %\n",
      "iteration  1900\n",
      "[6 8 4 ... 1 2 1] [6 5 9 ... 1 2 1]\n",
      "Accuracy  85.19 %\n",
      "iteration  1950\n",
      "[6 8 4 ... 1 2 1] [6 5 9 ... 1 2 1]\n",
      "Accuracy  85.32499999999999 %\n",
      "iteration  2000\n",
      "[6 8 4 ... 1 2 1] [6 5 9 ... 1 2 1]\n",
      "Accuracy  85.455 %\n",
      "iteration  2050\n",
      "[6 8 4 ... 1 2 1] [6 5 9 ... 1 2 1]\n",
      "Accuracy  85.61 %\n",
      "iteration  2100\n",
      "[6 8 4 ... 1 2 1] [6 5 9 ... 1 2 1]\n",
      "Accuracy  85.76 %\n",
      "iteration  2150\n",
      "[6 8 4 ... 1 2 1] [6 5 9 ... 1 2 1]\n",
      "Accuracy  85.91499999999999 %\n",
      "iteration  2200\n",
      "[6 8 4 ... 1 2 1] [6 5 9 ... 1 2 1]\n",
      "Accuracy  86.045 %\n",
      "iteration  2250\n",
      "[6 8 4 ... 1 2 1] [6 5 9 ... 1 2 1]\n",
      "Accuracy  86.205 %\n",
      "iteration  2300\n",
      "[6 8 4 ... 1 2 1] [6 5 9 ... 1 2 1]\n",
      "Accuracy  86.31 %\n",
      "iteration  2350\n",
      "[6 8 9 ... 1 2 1] [6 5 9 ... 1 2 1]\n",
      "Accuracy  86.44 %\n",
      "iteration  2400\n",
      "[6 8 9 ... 1 2 1] [6 5 9 ... 1 2 1]\n",
      "Accuracy  86.53 %\n",
      "iteration  2450\n",
      "[6 8 9 ... 1 2 1] [6 5 9 ... 1 2 1]\n",
      "Accuracy  86.605 %\n",
      "iteration  2500\n",
      "[6 8 9 ... 1 2 1] [6 5 9 ... 1 2 1]\n",
      "Accuracy  86.685 %\n",
      "iteration  2550\n",
      "[6 8 9 ... 1 2 1] [6 5 9 ... 1 2 1]\n",
      "Accuracy  86.82 %\n",
      "iteration  2600\n",
      "[6 8 9 ... 1 2 1] [6 5 9 ... 1 2 1]\n",
      "Accuracy  86.91499999999999 %\n",
      "iteration  2650\n",
      "[6 8 9 ... 1 2 1] [6 5 9 ... 1 2 1]\n",
      "Accuracy  87.05000000000001 %\n",
      "iteration  2700\n",
      "[6 8 9 ... 1 2 1] [6 5 9 ... 1 2 1]\n",
      "Accuracy  87.11 %\n",
      "iteration  2750\n",
      "[6 8 9 ... 1 2 1] [6 5 9 ... 1 2 1]\n",
      "Accuracy  87.21 %\n",
      "iteration  2800\n",
      "[6 8 9 ... 1 2 1] [6 5 9 ... 1 2 1]\n",
      "Accuracy  87.29 %\n",
      "iteration  2850\n",
      "[6 8 9 ... 1 2 1] [6 5 9 ... 1 2 1]\n",
      "Accuracy  87.39 %\n",
      "iteration  2900\n",
      "[6 8 9 ... 1 2 1] [6 5 9 ... 1 2 1]\n",
      "Accuracy  87.52499999999999 %\n",
      "iteration  2950\n",
      "[6 8 9 ... 1 2 1] [6 5 9 ... 1 2 1]\n",
      "Accuracy  87.625 %\n",
      "iteration  3000\n",
      "[6 8 9 ... 1 2 1] [6 5 9 ... 1 2 1]\n",
      "Accuracy  87.7 %\n",
      "iteration  3050\n",
      "[6 8 9 ... 1 2 1] [6 5 9 ... 1 2 1]\n",
      "Accuracy  87.775 %\n",
      "iteration  3100\n",
      "[6 8 9 ... 1 2 1] [6 5 9 ... 1 2 1]\n",
      "Accuracy  87.85 %\n",
      "iteration  3150\n",
      "[6 8 9 ... 1 2 1] [6 5 9 ... 1 2 1]\n",
      "Accuracy  87.895 %\n",
      "iteration  3200\n",
      "[6 8 9 ... 1 2 1] [6 5 9 ... 1 2 1]\n",
      "Accuracy  87.935 %\n",
      "iteration  3250\n",
      "[6 8 9 ... 1 2 1] [6 5 9 ... 1 2 1]\n",
      "Accuracy  87.995 %\n",
      "iteration  3300\n",
      "[6 8 9 ... 1 2 1] [6 5 9 ... 1 2 1]\n",
      "Accuracy  88.08 %\n",
      "iteration  3350\n",
      "[6 8 9 ... 1 2 1] [6 5 9 ... 1 2 1]\n",
      "Accuracy  88.13 %\n",
      "iteration  3400\n",
      "[6 8 9 ... 1 2 1] [6 5 9 ... 1 2 1]\n",
      "Accuracy  88.2 %\n",
      "iteration  3450\n",
      "[6 8 9 ... 1 2 1] [6 5 9 ... 1 2 1]\n",
      "Accuracy  88.235 %\n",
      "iteration  3500\n",
      "[6 8 9 ... 1 2 1] [6 5 9 ... 1 2 1]\n",
      "Accuracy  88.315 %\n",
      "iteration  3550\n",
      "[6 8 9 ... 1 2 1] [6 5 9 ... 1 2 1]\n",
      "Accuracy  88.36 %\n",
      "iteration  3600\n",
      "[6 8 9 ... 1 2 1] [6 5 9 ... 1 2 1]\n",
      "Accuracy  88.41 %\n",
      "iteration  3650\n",
      "[6 8 9 ... 1 2 1] [6 5 9 ... 1 2 1]\n",
      "Accuracy  88.47500000000001 %\n",
      "iteration  3700\n",
      "[6 8 9 ... 1 2 1] [6 5 9 ... 1 2 1]\n",
      "Accuracy  88.55 %\n",
      "iteration  3750\n",
      "[6 8 9 ... 1 2 1] [6 5 9 ... 1 2 1]\n",
      "Accuracy  88.605 %\n",
      "iteration  3800\n",
      "[6 8 9 ... 1 2 1] [6 5 9 ... 1 2 1]\n",
      "Accuracy  88.625 %\n",
      "iteration  3850\n",
      "[6 8 9 ... 1 2 1] [6 5 9 ... 1 2 1]\n",
      "Accuracy  88.665 %\n",
      "iteration  3900\n",
      "[6 8 9 ... 1 2 1] [6 5 9 ... 1 2 1]\n",
      "Accuracy  88.755 %\n",
      "iteration  3950\n",
      "[6 8 9 ... 1 2 1] [6 5 9 ... 1 2 1]\n",
      "Accuracy  88.795 %\n",
      "iteration  4000\n",
      "[6 8 9 ... 1 2 1] [6 5 9 ... 1 2 1]\n",
      "Accuracy  88.78 %\n",
      "iteration  4050\n",
      "[6 8 9 ... 1 2 1] [6 5 9 ... 1 2 1]\n",
      "Accuracy  88.82 %\n",
      "iteration  4100\n",
      "[6 8 9 ... 1 2 1] [6 5 9 ... 1 2 1]\n",
      "Accuracy  88.84 %\n",
      "iteration  4150\n",
      "[6 8 9 ... 1 2 1] [6 5 9 ... 1 2 1]\n",
      "Accuracy  88.895 %\n",
      "iteration  4200\n",
      "[6 8 9 ... 1 2 1] [6 5 9 ... 1 2 1]\n",
      "Accuracy  88.94999999999999 %\n",
      "iteration  4250\n",
      "[6 8 9 ... 1 2 1] [6 5 9 ... 1 2 1]\n",
      "Accuracy  89.01 %\n",
      "iteration  4300\n",
      "[6 8 9 ... 1 2 1] [6 5 9 ... 1 2 1]\n",
      "Accuracy  89.05999999999999 %\n",
      "iteration  4350\n",
      "[6 8 9 ... 1 2 1] [6 5 9 ... 1 2 1]\n",
      "Accuracy  89.12 %\n",
      "iteration  4400\n",
      "[6 8 9 ... 1 2 1] [6 5 9 ... 1 2 1]\n",
      "Accuracy  89.155 %\n",
      "iteration  4450\n",
      "[6 8 9 ... 1 2 1] [6 5 9 ... 1 2 1]\n",
      "Accuracy  89.19 %\n",
      "iteration  4500\n",
      "[6 8 9 ... 1 2 1] [6 5 9 ... 1 2 1]\n",
      "Accuracy  89.23 %\n",
      "iteration  4550\n",
      "[6 8 9 ... 1 2 1] [6 5 9 ... 1 2 1]\n",
      "Accuracy  89.235 %\n",
      "iteration  4600\n",
      "[6 8 9 ... 1 2 1] [6 5 9 ... 1 2 1]\n",
      "Accuracy  89.255 %\n",
      "iteration  4650\n",
      "[6 8 9 ... 1 2 1] [6 5 9 ... 1 2 1]\n",
      "Accuracy  89.27000000000001 %\n",
      "iteration  4700\n",
      "[6 8 9 ... 1 2 1] [6 5 9 ... 1 2 1]\n",
      "Accuracy  89.33 %\n",
      "iteration  4750\n",
      "[6 8 9 ... 1 2 1] [6 5 9 ... 1 2 1]\n",
      "Accuracy  89.385 %\n",
      "iteration  4800\n",
      "[6 8 9 ... 1 2 1] [6 5 9 ... 1 2 1]\n",
      "Accuracy  89.415 %\n",
      "iteration  4850\n",
      "[6 8 9 ... 1 2 1] [6 5 9 ... 1 2 1]\n",
      "Accuracy  89.42 %\n",
      "iteration  4900\n",
      "[6 8 9 ... 1 2 1] [6 5 9 ... 1 2 1]\n",
      "Accuracy  89.48 %\n",
      "iteration  4950\n",
      "[6 8 9 ... 1 2 1] [6 5 9 ... 1 2 1]\n",
      "Accuracy  89.52 %\n",
      "iteration  5000\n",
      "[6 8 9 ... 1 2 1] [6 5 9 ... 1 2 1]\n",
      "Accuracy  89.57000000000001 %\n",
      "iteration  5050\n",
      "[6 8 9 ... 1 2 1] [6 5 9 ... 1 2 1]\n",
      "Accuracy  89.625 %\n",
      "iteration  5100\n",
      "[6 8 9 ... 1 2 1] [6 5 9 ... 1 2 1]\n",
      "Accuracy  89.64 %\n",
      "iteration  5150\n",
      "[6 8 9 ... 1 2 1] [6 5 9 ... 1 2 1]\n",
      "Accuracy  89.67500000000001 %\n",
      "iteration  5200\n",
      "[6 8 9 ... 1 2 1] [6 5 9 ... 1 2 1]\n",
      "Accuracy  89.655 %\n",
      "iteration  5250\n",
      "[6 8 9 ... 1 2 1] [6 5 9 ... 1 2 1]\n",
      "Accuracy  89.69 %\n",
      "iteration  5300\n",
      "[6 8 9 ... 1 2 1] [6 5 9 ... 1 2 1]\n",
      "Accuracy  89.71000000000001 %\n",
      "iteration  5350\n",
      "[6 8 9 ... 1 2 1] [6 5 9 ... 1 2 1]\n",
      "Accuracy  89.75 %\n",
      "iteration  5400\n",
      "[6 8 9 ... 1 2 1] [6 5 9 ... 1 2 1]\n",
      "Accuracy  89.795 %\n",
      "iteration  5450\n",
      "[6 8 9 ... 1 2 1] [6 5 9 ... 1 2 1]\n",
      "Accuracy  89.825 %\n",
      "iteration  5500\n",
      "[6 8 9 ... 1 2 1] [6 5 9 ... 1 2 1]\n",
      "Accuracy  89.85499999999999 %\n",
      "iteration  5550\n",
      "[6 8 9 ... 1 2 1] [6 5 9 ... 1 2 1]\n",
      "Accuracy  89.88000000000001 %\n",
      "iteration  5600\n",
      "[6 8 9 ... 1 2 1] [6 5 9 ... 1 2 1]\n",
      "Accuracy  89.91 %\n",
      "iteration  5650\n",
      "[6 8 9 ... 1 2 1] [6 5 9 ... 1 2 1]\n",
      "Accuracy  89.95 %\n",
      "iteration  5700\n",
      "[6 8 9 ... 1 2 1] [6 5 9 ... 1 2 1]\n",
      "Accuracy  89.97 %\n",
      "iteration  5750\n",
      "[6 8 9 ... 1 2 1] [6 5 9 ... 1 2 1]\n",
      "Accuracy  90.005 %\n",
      "iteration  5800\n",
      "[6 8 9 ... 1 2 1] [6 5 9 ... 1 2 1]\n",
      "Accuracy  90.005 %\n",
      "iteration  5850\n",
      "[6 8 9 ... 1 2 1] [6 5 9 ... 1 2 1]\n",
      "Accuracy  90.03999999999999 %\n",
      "iteration  5900\n",
      "[6 8 9 ... 1 2 1] [6 5 9 ... 1 2 1]\n",
      "Accuracy  90.05499999999999 %\n",
      "iteration  5950\n",
      "[6 8 9 ... 1 2 1] [6 5 9 ... 1 2 1]\n",
      "Accuracy  90.08 %\n",
      "iteration  6000\n",
      "[6 8 9 ... 1 2 1] [6 5 9 ... 1 2 1]\n",
      "Accuracy  90.095 %\n",
      "iteration  6050\n",
      "[6 8 9 ... 1 2 1] [6 5 9 ... 1 2 1]\n",
      "Accuracy  90.125 %\n",
      "iteration  6100\n",
      "[6 8 9 ... 1 2 1] [6 5 9 ... 1 2 1]\n",
      "Accuracy  90.14999999999999 %\n",
      "iteration  6150\n",
      "[6 8 9 ... 1 2 1] [6 5 9 ... 1 2 1]\n",
      "Accuracy  90.18 %\n",
      "iteration  6200\n",
      "[6 8 9 ... 1 2 1] [6 5 9 ... 1 2 1]\n",
      "Accuracy  90.21000000000001 %\n",
      "iteration  6250\n",
      "[6 8 9 ... 1 2 1] [6 5 9 ... 1 2 1]\n",
      "Accuracy  90.23 %\n",
      "iteration  6300\n",
      "[6 8 9 ... 1 2 1] [6 5 9 ... 1 2 1]\n",
      "Accuracy  90.265 %\n",
      "iteration  6350\n",
      "[6 8 9 ... 1 2 1] [6 5 9 ... 1 2 1]\n",
      "Accuracy  90.295 %\n",
      "iteration  6400\n",
      "[6 8 9 ... 1 2 1] [6 5 9 ... 1 2 1]\n",
      "Accuracy  90.31 %\n",
      "iteration  6450\n",
      "[6 8 9 ... 1 2 1] [6 5 9 ... 1 2 1]\n",
      "Accuracy  90.325 %\n",
      "iteration  6500\n",
      "[6 8 9 ... 1 2 1] [6 5 9 ... 1 2 1]\n",
      "Accuracy  90.345 %\n",
      "iteration  6550\n",
      "[6 8 9 ... 1 2 1] [6 5 9 ... 1 2 1]\n",
      "Accuracy  90.375 %\n",
      "iteration  6600\n",
      "[6 8 9 ... 1 2 1] [6 5 9 ... 1 2 1]\n",
      "Accuracy  90.4 %\n",
      "iteration  6650\n",
      "[6 8 9 ... 1 2 1] [6 5 9 ... 1 2 1]\n",
      "Accuracy  90.405 %\n",
      "iteration  6700\n",
      "[6 8 9 ... 1 2 1] [6 5 9 ... 1 2 1]\n",
      "Accuracy  90.415 %\n",
      "iteration  6750\n",
      "[6 8 9 ... 1 2 1] [6 5 9 ... 1 2 1]\n",
      "Accuracy  90.42999999999999 %\n",
      "iteration  6800\n",
      "[6 8 9 ... 1 2 1] [6 5 9 ... 1 2 1]\n",
      "Accuracy  90.435 %\n",
      "iteration  6850\n",
      "[6 8 9 ... 1 2 1] [6 5 9 ... 1 2 1]\n",
      "Accuracy  90.46499999999999 %\n",
      "iteration  6900\n",
      "[6 8 9 ... 1 2 1] [6 5 9 ... 1 2 1]\n",
      "Accuracy  90.49000000000001 %\n",
      "iteration  6950\n",
      "[6 8 9 ... 1 2 1] [6 5 9 ... 1 2 1]\n",
      "Accuracy  90.515 %\n",
      "iteration  7000\n",
      "[6 8 9 ... 1 2 1] [6 5 9 ... 1 2 1]\n",
      "Accuracy  90.55 %\n",
      "iteration  7050\n",
      "[6 8 9 ... 1 2 1] [6 5 9 ... 1 2 1]\n",
      "Accuracy  90.575 %\n",
      "iteration  7100\n",
      "[6 8 9 ... 1 2 1] [6 5 9 ... 1 2 1]\n",
      "Accuracy  90.595 %\n",
      "iteration  7150\n",
      "[6 8 9 ... 1 2 1] [6 5 9 ... 1 2 1]\n",
      "Accuracy  90.605 %\n",
      "iteration  7200\n",
      "[6 8 9 ... 1 2 1] [6 5 9 ... 1 2 1]\n",
      "Accuracy  90.635 %\n",
      "iteration  7250\n",
      "[6 8 9 ... 1 2 1] [6 5 9 ... 1 2 1]\n",
      "Accuracy  90.675 %\n",
      "iteration  7300\n",
      "[6 8 9 ... 1 2 1] [6 5 9 ... 1 2 1]\n",
      "Accuracy  90.705 %\n",
      "iteration  7350\n",
      "[6 8 9 ... 1 2 1] [6 5 9 ... 1 2 1]\n",
      "Accuracy  90.72 %\n",
      "iteration  7400\n",
      "[6 8 9 ... 1 2 1] [6 5 9 ... 1 2 1]\n",
      "Accuracy  90.75999999999999 %\n",
      "iteration  7450\n",
      "[6 8 9 ... 1 2 1] [6 5 9 ... 1 2 1]\n",
      "Accuracy  90.79 %\n",
      "iteration  7500\n",
      "[6 8 9 ... 1 2 1] [6 5 9 ... 1 2 1]\n",
      "Accuracy  90.825 %\n",
      "iteration  7550\n",
      "[6 8 9 ... 1 2 1] [6 5 9 ... 1 2 1]\n",
      "Accuracy  90.84 %\n",
      "iteration  7600\n",
      "[6 8 9 ... 1 2 1] [6 5 9 ... 1 2 1]\n",
      "Accuracy  90.845 %\n",
      "iteration  7650\n",
      "[6 8 9 ... 1 2 1] [6 5 9 ... 1 2 1]\n",
      "Accuracy  90.85 %\n",
      "iteration  7700\n",
      "[6 8 9 ... 1 2 1] [6 5 9 ... 1 2 1]\n",
      "Accuracy  90.865 %\n",
      "iteration  7750\n",
      "[6 8 9 ... 1 2 1] [6 5 9 ... 1 2 1]\n",
      "Accuracy  90.89 %\n",
      "iteration  7800\n",
      "[6 8 9 ... 1 2 1] [6 5 9 ... 1 2 1]\n",
      "Accuracy  90.91 %\n",
      "iteration  7850\n",
      "[6 8 9 ... 1 2 1] [6 5 9 ... 1 2 1]\n",
      "Accuracy  90.93 %\n",
      "iteration  7900\n",
      "[6 8 9 ... 1 2 1] [6 5 9 ... 1 2 1]\n",
      "Accuracy  90.94 %\n",
      "iteration  7950\n",
      "[6 8 9 ... 1 2 1] [6 5 9 ... 1 2 1]\n",
      "Accuracy  90.975 %\n",
      "iteration  8000\n",
      "[6 8 9 ... 1 2 1] [6 5 9 ... 1 2 1]\n",
      "Accuracy  91.0 %\n",
      "iteration  8050\n",
      "[6 8 9 ... 1 2 1] [6 5 9 ... 1 2 1]\n",
      "Accuracy  91.01 %\n",
      "iteration  8100\n",
      "[6 8 9 ... 1 2 1] [6 5 9 ... 1 2 1]\n",
      "Accuracy  91.03 %\n",
      "iteration  8150\n",
      "[6 8 9 ... 1 2 1] [6 5 9 ... 1 2 1]\n",
      "Accuracy  91.06 %\n",
      "iteration  8200\n",
      "[6 8 9 ... 1 2 1] [6 5 9 ... 1 2 1]\n",
      "Accuracy  91.08000000000001 %\n",
      "iteration  8250\n",
      "[6 8 9 ... 1 2 1] [6 5 9 ... 1 2 1]\n",
      "Accuracy  91.12 %\n",
      "iteration  8300\n",
      "[6 8 9 ... 1 2 1] [6 5 9 ... 1 2 1]\n",
      "Accuracy  91.13 %\n",
      "iteration  8350\n",
      "[6 8 9 ... 1 2 1] [6 5 9 ... 1 2 1]\n",
      "Accuracy  91.17 %\n",
      "iteration  8400\n",
      "[6 8 9 ... 1 2 1] [6 5 9 ... 1 2 1]\n",
      "Accuracy  91.175 %\n",
      "iteration  8450\n",
      "[6 8 9 ... 1 2 1] [6 5 9 ... 1 2 1]\n",
      "Accuracy  91.175 %\n",
      "iteration  8500\n",
      "[6 8 9 ... 1 2 1] [6 5 9 ... 1 2 1]\n",
      "Accuracy  91.19500000000001 %\n",
      "iteration  8550\n",
      "[6 8 9 ... 1 2 1] [6 5 9 ... 1 2 1]\n",
      "Accuracy  91.205 %\n",
      "iteration  8600\n",
      "[6 8 9 ... 1 2 1] [6 5 9 ... 1 2 1]\n",
      "Accuracy  91.21000000000001 %\n",
      "iteration  8650\n",
      "[6 8 9 ... 1 2 1] [6 5 9 ... 1 2 1]\n",
      "Accuracy  91.225 %\n",
      "iteration  8700\n",
      "[6 8 9 ... 1 2 1] [6 5 9 ... 1 2 1]\n",
      "Accuracy  91.245 %\n",
      "iteration  8750\n",
      "[6 8 9 ... 1 2 1] [6 5 9 ... 1 2 1]\n",
      "Accuracy  91.255 %\n",
      "iteration  8800\n",
      "[6 8 9 ... 1 2 1] [6 5 9 ... 1 2 1]\n",
      "Accuracy  91.27 %\n",
      "iteration  8850\n",
      "[6 8 9 ... 1 2 1] [6 5 9 ... 1 2 1]\n",
      "Accuracy  91.27 %\n",
      "iteration  8900\n",
      "[6 8 9 ... 1 2 1] [6 5 9 ... 1 2 1]\n",
      "Accuracy  91.28 %\n",
      "iteration  8950\n",
      "[6 8 9 ... 1 2 1] [6 5 9 ... 1 2 1]\n",
      "Accuracy  91.305 %\n",
      "iteration  9000\n",
      "[6 8 9 ... 1 2 1] [6 5 9 ... 1 2 1]\n",
      "Accuracy  91.33 %\n",
      "iteration  9050\n",
      "[6 8 9 ... 1 2 1] [6 5 9 ... 1 2 1]\n",
      "Accuracy  91.35 %\n",
      "iteration  9100\n",
      "[6 8 9 ... 1 2 1] [6 5 9 ... 1 2 1]\n",
      "Accuracy  91.355 %\n",
      "iteration  9150\n",
      "[6 8 9 ... 1 2 1] [6 5 9 ... 1 2 1]\n",
      "Accuracy  91.375 %\n",
      "iteration  9200\n",
      "[6 8 9 ... 1 2 1] [6 5 9 ... 1 2 1]\n",
      "Accuracy  91.415 %\n",
      "iteration  9250\n",
      "[6 8 9 ... 1 2 1] [6 5 9 ... 1 2 1]\n",
      "Accuracy  91.425 %\n",
      "iteration  9300\n",
      "[6 8 9 ... 1 2 1] [6 5 9 ... 1 2 1]\n",
      "Accuracy  91.455 %\n",
      "iteration  9350\n",
      "[6 8 9 ... 1 2 1] [6 5 9 ... 1 2 1]\n",
      "Accuracy  91.475 %\n",
      "iteration  9400\n",
      "[6 8 9 ... 1 2 1] [6 5 9 ... 1 2 1]\n",
      "Accuracy  91.47999999999999 %\n",
      "iteration  9450\n",
      "[6 8 9 ... 1 2 1] [6 5 9 ... 1 2 1]\n",
      "Accuracy  91.485 %\n",
      "iteration  9500\n",
      "[6 8 9 ... 1 2 1] [6 5 9 ... 1 2 1]\n",
      "Accuracy  91.50500000000001 %\n",
      "iteration  9550\n",
      "[6 8 9 ... 1 2 1] [6 5 9 ... 1 2 1]\n",
      "Accuracy  91.525 %\n",
      "iteration  9600\n",
      "[6 8 9 ... 1 2 1] [6 5 9 ... 1 2 1]\n",
      "Accuracy  91.53 %\n",
      "iteration  9650\n",
      "[6 8 9 ... 1 2 1] [6 5 9 ... 1 2 1]\n",
      "Accuracy  91.545 %\n",
      "iteration  9700\n",
      "[6 8 9 ... 1 2 1] [6 5 9 ... 1 2 1]\n",
      "Accuracy  91.55 %\n",
      "iteration  9750\n",
      "[6 8 9 ... 1 2 1] [6 5 9 ... 1 2 1]\n",
      "Accuracy  91.55499999999999 %\n",
      "iteration  9800\n",
      "[6 8 9 ... 1 2 1] [6 5 9 ... 1 2 1]\n",
      "Accuracy  91.55499999999999 %\n",
      "iteration  9850\n",
      "[6 8 9 ... 1 2 1] [6 5 9 ... 1 2 1]\n",
      "Accuracy  91.55 %\n",
      "iteration  9900\n",
      "[6 8 9 ... 1 2 1] [6 5 9 ... 1 2 1]\n",
      "Accuracy  91.565 %\n",
      "iteration  9950\n",
      "[6 8 9 ... 1 2 1] [6 5 9 ... 1 2 1]\n",
      "Accuracy  91.595 %\n"
     ]
    }
   ],
   "source": [
    "W1 , b1 , W2 , b2 = gradient_descant(x_train, y_train ,10000,0.1)"
   ]
  },
  {
   "cell_type": "code",
   "execution_count": 13,
   "metadata": {},
   "outputs": [],
   "source": [
    "def make_predictions(x, W1, b1, W2, b2):\n",
    "    _, _, _, A2 = forward_propagation(W1, b1, W2, b2, x)\n",
    "    predictions = predict(A2)\n",
    "    return predictions\n",
    "\n",
    "def test_prediction(index, W1, b1, W2, b2):\n",
    "    current_image = x_train[:, index, None]\n",
    "    prediction = make_predictions(x_train[:, index, None], W1, b1, W2, b2)\n",
    "    label = y_train[index]\n",
    "    print(\"Prediction: \")\n",
    "    print(\"Label: \", label)\n",
    "    \n",
    "    current_image = current_image.reshape((28, 28)) * 255\n",
    "    plt.gray()\n",
    "    plt.imshow(current_image)\n",
    "    plt.show()"
   ]
  },
  {
   "cell_type": "code",
   "execution_count": 14,
   "metadata": {},
   "outputs": [
    {
     "name": "stdout",
     "output_type": "stream",
     "text": [
      "Prediction: \n",
      "Label:  6\n"
     ]
    },
    {
     "data": {
      "image/png": "[encoded data removed]",
      "text/plain": [
       "<Figure size 432x288 with 1 Axes>"
      ]
     },
     "metadata": {
      "needs_background": "light"
     },
     "output_type": "display_data"
    },
    {
     "name": "stdout",
     "output_type": "stream",
     "text": [
      "Prediction: \n",
      "Label:  5\n"
     ]
    },
    {
     "data": {
      "image/png": "[encoded data removed]",
      "text/plain": [
       "<Figure size 432x288 with 1 Axes>"
      ]
     },
     "metadata": {
      "needs_background": "light"
     },
     "output_type": "display_data"
    },
    {
     "name": "stdout",
     "output_type": "stream",
     "text": [
      "Prediction: \n",
      "Label:  9\n"
     ]
    },
    {
     "data": {
      "image/png": "[encoded data removed]",
      "text/plain": [
       "<Figure size 432x288 with 1 Axes>"
      ]
     },
     "metadata": {
      "needs_background": "light"
     },
     "output_type": "display_data"
    },
    {
     "name": "stdout",
     "output_type": "stream",
     "text": [
      "Prediction: \n",
      "Label:  6\n"
     ]
    },
    {
     "data": {
      "image/png": "[encoded data removed]",
      "text/plain": [
       "<Figure size 432x288 with 1 Axes>"
      ]
     },
     "metadata": {
      "needs_background": "light"
     },
     "output_type": "display_data"
    },
    {
     "name": "stdout",
     "output_type": "stream",
     "text": [
      "Prediction: \n",
      "Label:  3\n"
     ]
    },
    {
     "data": {
      "image/png": "[encoded data removed]",
      "text/plain": [
       "<Figure size 432x288 with 1 Axes>"
      ]
     },
     "metadata": {
      "needs_background": "light"
     },
     "output_type": "display_data"
    },
    {
     "name": "stdout",
     "output_type": "stream",
     "text": [
      "Prediction: \n",
      "Label:  0\n"
     ]
    },
    {
     "data": {
      "image/png": "[encoded data removed]",
      "text/plain": [
       "<Figure size 432x288 with 1 Axes>"
      ]
     },
     "metadata": {
      "needs_background": "light"
     },
     "output_type": "display_data"
    },
    {
     "name": "stdout",
     "output_type": "stream",
     "text": [
      "Prediction: \n",
      "Label:  2\n"
     ]
    },
    {
     "data": {
      "image/png": "[encoded data removed]",
      "text/plain": [
       "<Figure size 432x288 with 1 Axes>"
      ]
     },
     "metadata": {
      "needs_background": "light"
     },
     "output_type": "display_data"
    },
    {
     "name": "stdout",
     "output_type": "stream",
     "text": [
      "Prediction: \n",
      "Label:  9\n"
     ]
    },
    {
     "data": {
      "image/png": "[encoded data removed]",
      "text/plain": [
       "<Figure size 432x288 with 1 Axes>"
      ]
     },
     "metadata": {
      "needs_background": "light"
     },
     "output_type": "display_data"
    },
    {
     "name": "stdout",
     "output_type": "stream",
     "text": [
      "Prediction: \n",
      "Label:  0\n"
     ]
    },
    {
     "data": {
      "image/png": "[encoded data removed]",
      "text/plain": [
       "<Figure size 432x288 with 1 Axes>"
      ]
     },
     "metadata": {
      "needs_background": "light"
     },
     "output_type": "display_data"
    },
    {
     "name": "stdout",
     "output_type": "stream",
     "text": [
      "Prediction: \n",
      "Label:  1\n"
     ]
    },
    {
     "data": {
      "image/png": "[encoded data removed]",
      "text/plain": [
       "<Figure size 432x288 with 1 Axes>"
      ]
     },
     "metadata": {
      "needs_background": "light"
     },
     "output_type": "display_data"
    },
    {
     "name": "stdout",
     "output_type": "stream",
     "text": [
      "Prediction: \n",
      "Label:  7\n"
     ]
    },
    {
     "data": {
      "image/png": "[encoded data removed]",
      "text/plain": [
       "<Figure size 432x288 with 1 Axes>"
      ]
     },
     "metadata": {
      "needs_background": "light"
     },
     "output_type": "display_data"
    },
    {
     "name": "stdout",
     "output_type": "stream",
     "text": [
      "Prediction: \n",
      "Label:  1\n"
     ]
    },
    {
     "data": {
      "image/png": "[encoded data removed]",
      "text/plain": [
       "<Figure size 432x288 with 1 Axes>"
      ]
     },
     "metadata": {
      "needs_background": "light"
     },
     "output_type": "display_data"
    },
    {
     "name": "stdout",
     "output_type": "stream",
     "text": [
      "Prediction: \n",
      "Label:  9\n"
     ]
    },
    {
     "data": {
      "image/png": "[encoded data removed]",
      "text/plain": [
       "<Figure size 432x288 with 1 Axes>"
      ]
     },
     "metadata": {
      "needs_background": "light"
     },
     "output_type": "display_data"
    },
    {
     "name": "stdout",
     "output_type": "stream",
     "text": [
      "Prediction: \n",
      "Label:  8\n"
     ]
    },
    {
     "data": {
      "image/png": "[encoded data removed]",
      "text/plain": [
       "<Figure size 432x288 with 1 Axes>"
      ]
     },
     "metadata": {
      "needs_background": "light"
     },
     "output_type": "display_data"
    },
    {
     "name": "stdout",
     "output_type": "stream",
     "text": [
      "Prediction: \n",
      "Label:  2\n"
     ]
    },
    {
     "data": {
      "image/png": "[encoded data removed]",
      "text/plain": [
       "<Figure size 432x288 with 1 Axes>"
      ]
     },
     "metadata": {
      "needs_background": "light"
     },
     "output_type": "display_data"
    },
    {
     "name": "stdout",
     "output_type": "stream",
     "text": [
      "Prediction: \n",
      "Label:  6\n"
     ]
    },
    {
     "data": {
      "image/png": "[encoded data removed]",
      "text/plain": [
       "<Figure size 432x288 with 1 Axes>"
      ]
     },
     "metadata": {
      "needs_background": "light"
     },
     "output_type": "display_data"
    },
    {
     "name": "stdout",
     "output_type": "stream",
     "text": [
      "Prediction: \n",
      "Label:  3\n"
     ]
    },
    {
     "data": {
      "image/png": "[encoded data removed]",
      "text/plain": [
       "<Figure size 432x288 with 1 Axes>"
      ]
     },
     "metadata": {
      "needs_background": "light"
     },
     "output_type": "display_data"
    },
    {
     "name": "stdout",
     "output_type": "stream",
     "text": [
      "Prediction: \n",
      "Label:  6\n"
     ]
    },
    {
     "data": {
      "image/png": "[encoded data removed]",
      "text/plain": [
       "<Figure size 432x288 with 1 Axes>"
      ]
     },
     "metadata": {
      "needs_background": "light"
     },
     "output_type": "display_data"
    },
    {
     "name": "stdout",
     "output_type": "stream",
     "text": [
      "Prediction: \n",
      "Label:  4\n"
     ]
    },
    {
     "data": {
      "image/png": "[encoded data removed]",
      "text/plain": [
       "<Figure size 432x288 with 1 Axes>"
      ]
     },
     "metadata": {
      "needs_background": "light"
     },
     "output_type": "display_data"
    },
    {
     "name": "stdout",
     "output_type": "stream",
     "text": [
      "Prediction: \n",
      "Label:  8\n"
     ]
    },
    {
     "data": {
      "image/png": "[encoded data removed]",
      "text/plain": [
       "<Figure size 432x288 with 1 Axes>"
      ]
     },
     "metadata": {
      "needs_background": "light"
     },
     "output_type": "display_data"
    },
    {
     "name": "stdout",
     "output_type": "stream",
     "text": [
      "Prediction: \n",
      "Label:  4\n"
     ]
    },
    {
     "data": {
      "image/png": "[encoded data removed]",
      "text/plain": [
       "<Figure size 432x288 with 1 Axes>"
      ]
     },
     "metadata": {
      "needs_background": "light"
     },
     "output_type": "display_data"
    },
    {
     "name": "stdout",
     "output_type": "stream",
     "text": [
      "Prediction: \n",
      "Label:  5\n"
     ]
    },
    {
     "data": {
      "image/png": "[encoded data removed]",
      "text/plain": [
       "<Figure size 432x288 with 1 Axes>"
      ]
     },
     "metadata": {
      "needs_background": "light"
     },
     "output_type": "display_data"
    },
    {
     "name": "stdout",
     "output_type": "stream",
     "text": [
      "Prediction: \n",
      "Label:  9\n"
     ]
    },
    {
     "data": {
      "image/png": "[encoded data removed]",
      "text/plain": [
       "<Figure size 432x288 with 1 Axes>"
      ]
     },
     "metadata": {
      "needs_background": "light"
     },
     "output_type": "display_data"
    },
    {
     "name": "stdout",
     "output_type": "stream",
     "text": [
      "Prediction: \n",
      "Label:  8\n"
     ]
    },
    {
     "data": {
      "image/png": "[encoded data removed]",
      "text/plain": [
       "<Figure size 432x288 with 1 Axes>"
      ]
     },
     "metadata": {
      "needs_background": "light"
     },
     "output_type": "display_data"
    },
    {
     "name": "stdout",
     "output_type": "stream",
     "text": [
      "Prediction: \n",
      "Label:  8\n"
     ]
    },
    {
     "data": {
      "image/png": "[encoded data removed]",
      "text/plain": [
       "<Figure size 432x288 with 1 Axes>"
      ]
     },
     "metadata": {
      "needs_background": "light"
     },
     "output_type": "display_data"
    },
    {
     "name": "stdout",
     "output_type": "stream",
     "text": [
      "Prediction: \n",
      "Label:  4\n"
     ]
    },
    {
     "data": {
      "image/png": "[encoded data removed]",
      "text/plain": [
       "<Figure size 432x288 with 1 Axes>"
      ]
     },
     "metadata": {
      "needs_background": "light"
     },
     "output_type": "display_data"
    },
    {
     "name": "stdout",
     "output_type": "stream",
     "text": [
      "Prediction: \n",
      "Label:  7\n"
     ]
    },
    {
     "data": {
      "image/png": "[encoded data removed]",
      "text/plain": [
       "<Figure size 432x288 with 1 Axes>"
      ]
     },
     "metadata": {
      "needs_background": "light"
     },
     "output_type": "display_data"
    },
    {
     "name": "stdout",
     "output_type": "stream",
     "text": [
      "Prediction: \n",
      "Label:  9\n"
     ]
    },
    {
     "data": {
      "image/png": "[encoded data removed]",
      "text/plain": [
       "<Figure size 432x288 with 1 Axes>"
      ]
     },
     "metadata": {
      "needs_background": "light"
     },
     "output_type": "display_data"
    },
    {
     "name": "stdout",
     "output_type": "stream",
     "text": [
      "Prediction: \n",
      "Label:  5\n"
     ]
    },
    {
     "data": {
      "image/png": "[encoded data removed]",
      "text/plain": [
       "<Figure size 432x288 with 1 Axes>"
      ]
     },
     "metadata": {
      "needs_background": "light"
     },
     "output_type": "display_data"
    },
    {
     "name": "stdout",
     "output_type": "stream",
     "text": [
      "Prediction: \n",
      "Label:  2\n"
     ]
    },
    {
     "data": {
      "image/png": "[encoded data removed]",
      "text/plain": [
       "<Figure size 432x288 with 1 Axes>"
      ]
     },
     "metadata": {
      "needs_background": "light"
     },
     "output_type": "display_data"
    },
    {
     "name": "stdout",
     "output_type": "stream",
     "text": [
      "Prediction: \n",
      "Label:  1\n"
     ]
    },
    {
     "data": {
      "image/png": "[encoded data removed]",
      "text/plain": [
       "<Figure size 432x288 with 1 Axes>"
      ]
     },
     "metadata": {
      "needs_background": "light"
     },
     "output_type": "display_data"
    },
    {
     "name": "stdout",
     "output_type": "stream",
     "text": [
      "Prediction: \n",
      "Label:  4\n"
     ]
    },
    {
     "data": {
      "image/png": "[encoded data removed]",
      "text/plain": [
       "<Figure size 432x288 with 1 Axes>"
      ]
     },
     "metadata": {
      "needs_background": "light"
     },
     "output_type": "display_data"
    },
    {
     "name": "stdout",
     "output_type": "stream",
     "text": [
      "Prediction: \n",
      "Label:  0\n"
     ]
    },
    {
     "data": {
      "image/png": "[encoded data removed]",
      "text/plain": [
       "<Figure size 432x288 with 1 Axes>"
      ]
     },
     "metadata": {
      "needs_background": "light"
     },
     "output_type": "display_data"
    },
    {
     "name": "stdout",
     "output_type": "stream",
     "text": [
      "Prediction: \n",
      "Label:  4\n"
     ]
    },
    {
     "data": {
      "image/png": "[encoded data removed]",
      "text/plain": [
       "<Figure size 432x288 with 1 Axes>"
      ]
     },
     "metadata": {
      "needs_background": "light"
     },
     "output_type": "display_data"
    },
    {
     "name": "stdout",
     "output_type": "stream",
     "text": [
      "Prediction: \n",
      "Label:  9\n"
     ]
    },
    {
     "data": {
      "image/png": "[encoded data removed]",
      "text/plain": [
       "<Figure size 432x288 with 1 Axes>"
      ]
     },
     "metadata": {
      "needs_background": "light"
     },
     "output_type": "display_data"
    },
    {
     "name": "stdout",
     "output_type": "stream",
     "text": [
      "Prediction: \n",
      "Label:  2\n"
     ]
    },
    {
     "data": {
      "image/png": "[encoded data removed]",
      "text/plain": [
       "<Figure size 432x288 with 1 Axes>"
      ]
     },
     "metadata": {
      "needs_background": "light"
     },
     "output_type": "display_data"
    },
    {
     "name": "stdout",
     "output_type": "stream",
     "text": [
      "Prediction: \n",
      "Label:  7\n"
     ]
    },
    {
     "data": {
      "image/png": "[encoded data removed]",
      "text/plain": [
       "<Figure size 432x288 with 1 Axes>"
      ]
     },
     "metadata": {
      "needs_background": "light"
     },
     "output_type": "display_data"
    },
    {
     "name": "stdout",
     "output_type": "stream",
     "text": [
      "Prediction: \n",
      "Label:  0\n"
     ]
    },
    {
     "data": {
      "image/png": "[encoded data removed]",
      "text/plain": [
       "<Figure size 432x288 with 1 Axes>"
      ]
     },
     "metadata": {
      "needs_background": "light"
     },
     "output_type": "display_data"
    },
    {
     "name": "stdout",
     "output_type": "stream",
     "text": [
      "Prediction: \n",
      "Label:  6\n"
     ]
    },
    {
     "data": {
      "image/png": "[encoded data removed]",
      "text/plain": [
       "<Figure size 432x288 with 1 Axes>"
      ]
     },
     "metadata": {
      "needs_background": "light"
     },
     "output_type": "display_data"
    },
    {
     "name": "stdout",
     "output_type": "stream",
     "text": [
      "Prediction: \n",
      "Label:  6\n"
     ]
    },
    {
     "data": {
      "image/png": "[encoded data removed]",
      "text/plain": [
       "<Figure size 432x288 with 1 Axes>"
      ]
     },
     "metadata": {
      "needs_background": "light"
     },
     "output_type": "display_data"
    },
    {
     "name": "stdout",
     "output_type": "stream",
     "text": [
      "Prediction: \n",
      "Label:  2\n"
     ]
    },
    {
     "data": {
      "image/png": "[encoded data removed]",
      "text/plain": [
       "<Figure size 432x288 with 1 Axes>"
      ]
     },
     "metadata": {
      "needs_background": "light"
     },
     "output_type": "display_data"
    },
    {
     "name": "stdout",
     "output_type": "stream",
     "text": [
      "Prediction: \n",
      "Label:  8\n"
     ]
    },
    {
     "data": {
      "image/png": "[encoded data removed]",
      "text/plain": [
       "<Figure size 432x288 with 1 Axes>"
      ]
     },
     "metadata": {
      "needs_background": "light"
     },
     "output_type": "display_data"
    },
    {
     "name": "stdout",
     "output_type": "stream",
     "text": [
      "Prediction: \n",
      "Label:  1\n"
     ]
    },
    {
     "data": {
      "image/png": "[encoded data removed]",
      "text/plain": [
       "<Figure size 432x288 with 1 Axes>"
      ]
     },
     "metadata": {
      "needs_background": "light"
     },
     "output_type": "display_data"
    },
    {
     "name": "stdout",
     "output_type": "stream",
     "text": [
      "Prediction: \n",
      "Label:  8\n"
     ]
    },
    {
     "data": {
      "image/png": "[encoded data removed]",
      "text/plain": [
       "<Figure size 432x288 with 1 Axes>"
      ]
     },
     "metadata": {
      "needs_background": "light"
     },
     "output_type": "display_data"
    },
    {
     "name": "stdout",
     "output_type": "stream",
     "text": [
      "Prediction: \n",
      "Label:  9\n"
     ]
    },
    {
     "data": {
      "image/png": "[encoded data removed]",
      "text/plain": [
       "<Figure size 432x288 with 1 Axes>"
      ]
     },
     "metadata": {
      "needs_background": "light"
     },
     "output_type": "display_data"
    },
    {
     "name": "stdout",
     "output_type": "stream",
     "text": [
      "Prediction: \n",
      "Label:  7\n"
     ]
    },
    {
     "data": {
      "image/png": "[encoded data removed]",
      "text/plain": [
       "<Figure size 432x288 with 1 Axes>"
      ]
     },
     "metadata": {
      "needs_background": "light"
     },
     "output_type": "display_data"
    },
    {
     "name": "stdout",
     "output_type": "stream",
     "text": [
      "Prediction: \n",
      "Label:  7\n"
     ]
    },
    {
     "data": {
      "image/png": "[encoded data removed]",
      "text/plain": [
       "<Figure size 432x288 with 1 Axes>"
      ]
     },
     "metadata": {
      "needs_background": "light"
     },
     "output_type": "display_data"
    },
    {
     "name": "stdout",
     "output_type": "stream",
     "text": [
      "Prediction: \n",
      "Label:  1\n"
     ]
    },
    {
     "data": {
      "image/png": "[encoded data removed]",
      "text/plain": [
       "<Figure size 432x288 with 1 Axes>"
      ]
     },
     "metadata": {
      "needs_background": "light"
     },
     "output_type": "display_data"
    },
    {
     "name": "stdout",
     "output_type": "stream",
     "text": [
      "Prediction: \n",
      "Label:  7\n"
     ]
    },
    {
     "data": {
      "image/png": "[encoded data removed]",
      "text/plain": [
       "<Figure size 432x288 with 1 Axes>"
      ]
     },
     "metadata": {
      "needs_background": "light"
     },
     "output_type": "display_data"
    },
    {
     "name": "stdout",
     "output_type": "stream",
     "text": [
      "Prediction: \n",
      "Label:  2\n"
     ]
    },
    {
     "data": {
      "image/png": "[encoded data removed]",
      "text/plain": [
       "<Figure size 432x288 with 1 Axes>"
      ]
     },
     "metadata": {
      "needs_background": "light"
     },
     "output_type": "display_data"
    }
   ],
   "source": [
    "for i in range (50) :\n",
    "    test_prediction(i, W1, b1, W2, b2)"
   ]
  },
  {
   "cell_type": "code",
   "execution_count": null,
   "metadata": {},
   "outputs": [],
   "source": []
  }
 ],
 "metadata": {
  "kernelspec": {
   "display_name": "Python 3",
   "language": "python",
   "name": "python3"
  },
  "language_info": {
   "codemirror_mode": {
    "name": "ipython",
    "version": 3
   },
   "file_extension": ".py",
   "mimetype": "text/x-python",
   "name": "python",
   "nbconvert_exporter": "python",
   "pygments_lexer": "ipython3",
   "version": "3.8.3"
  }
 },
 "nbformat": 4,
 "nbformat_minor": 4
}
